{
 "cells": [
  {
   "cell_type": "markdown",
   "id": "360c4cf9",
   "metadata": {},
   "source": [
    "#### Reverse a string"
   ]
  },
  {
   "cell_type": "code",
   "execution_count": 1,
   "id": "69900e3a",
   "metadata": {},
   "outputs": [
    {
     "name": "stdout",
     "output_type": "stream",
     "text": [
      "code practice quiz geeks\n"
     ]
    }
   ],
   "source": [
    "string = \"geeks quiz practice code\"\n",
    "s = string.split()[::-1]\n",
    "l = []\n",
    "for i in s:\n",
    "    l.append(i)`\n",
    "print(\" \".join(l))"
   ]
  },
  {
   "cell_type": "code",
   "execution_count": 11,
   "id": "c983ebd4",
   "metadata": {},
   "outputs": [
    {
     "name": "stdout",
     "output_type": "stream",
     "text": [
      "hsakarp si eman YM \n"
     ]
    }
   ],
   "source": [
    "str = \" MY name is prakash\"\n",
    "print(str[::-1])"
   ]
  },
  {
   "cell_type": "markdown",
   "id": "5462ab96",
   "metadata": {},
   "source": [
    "Task \n",
    "\n",
    "1)\tGiven an integer sorted array like [1,2,3,4,5,5,6] --> give me the index position of the duplicate and a new array without any duplicates. Should not use any pandas or 'set' function\n",
    "Ashish Kumar2:28 PM\n",
    "2)\tGiven a sentence. print the sentence in a reverse order."
   ]
  },
  {
   "cell_type": "code",
   "execution_count": 55,
   "id": "3e1f1202",
   "metadata": {},
   "outputs": [
    {
     "name": "stdout",
     "output_type": "stream",
     "text": [
      "[5, 6, 7, 10]\n"
     ]
    }
   ],
   "source": [
    "l=[1,2,3,4,5,2,3,4,7,9,5]\n",
    "l1,l2=[],[]\n",
    "for i in range(len(l)):\n",
    "#     print(l[i])\n",
    "    if l[i] not in l1:\n",
    "        l1.append(l[i])\n",
    "    elif l[i] in l1:\n",
    "        l2.append(i)\n",
    "print(l2)"
   ]
  },
  {
   "cell_type": "code",
   "execution_count": 4,
   "id": "3c2e710e",
   "metadata": {},
   "outputs": [
    {
     "name": "stdout",
     "output_type": "stream",
     "text": [
      "code practice quiz geeks\n"
     ]
    }
   ],
   "source": [
    "import re\n",
    "def rev_sentence(sentence):\n",
    " \n",
    "    # find all the words in sentence\n",
    "    words = re.findall('\\w+', sentence)\n",
    " \n",
    "    # Backward iterate over list of words and join using space\n",
    "    reverse_sentence = ' '.join(words[i] for i in range(len(words)-1, -1, -1))\n",
    " \n",
    "    # finally return the joined string\n",
    "    return reverse_sentence\n",
    " \n",
    "if __name__ == \"__main__\":\n",
    "    input = 'geeks quiz practice code'\n",
    "    print (rev_sentence(input))"
   ]
  },
  {
   "cell_type": "code",
   "execution_count": 14,
   "id": "9d59c758",
   "metadata": {},
   "outputs": [
    {
     "name": "stdout",
     "output_type": "stream",
     "text": [
      "Without Order: gekofsr\n",
      "With Order: g\n",
      "With Order: ge\n",
      "With Order: ge\n",
      "With Order: gek\n",
      "With Order: geks\n",
      "With Order: geksf\n",
      "With Order: geksfo\n",
      "With Order: geksfor\n",
      "With Order: geksfor\n",
      "With Order: geksfor\n",
      "With Order: geksfor\n",
      "With Order: geksfor\n",
      "With Order: geksfor\n"
     ]
    }
   ],
   "source": [
    "def removeDuplicate(str):\n",
    "    s=set(str)\n",
    "    s=\"\".join(s)\n",
    "    print(\"Without Order:\",s)\n",
    "    t=\"\"\n",
    "    for i in str:\n",
    "        if(i in t):\n",
    "            pass\n",
    "        else:\n",
    "            t=t+i\n",
    "        print(\"With Order:\",t)\n",
    "     \n",
    "str=\"geeksforgeeks\"\n",
    "removeDuplicate(str)"
   ]
  },
  {
   "cell_type": "markdown",
   "id": "306ec379",
   "metadata": {},
   "source": [
    "#### Remove the nth character from string"
   ]
  },
  {
   "cell_type": "code",
   "execution_count": 96,
   "id": "2b8ae7b0",
   "metadata": {},
   "outputs": [
    {
     "name": "stdout",
     "output_type": "stream",
     "text": [
      "The original string is : GeeksForGeeks\n",
      "The string after removal of i'th character : GeksForGeeks\n"
     ]
    }
   ],
   "source": [
    "test_str = \"GeeksForGeeks\"\n",
    "  \n",
    "print (\"The original string is : \" + test_str)\n",
    "new_str = \"\"\n",
    "  \n",
    "for i in range(len(test_str)):\n",
    "    if i != 2:\n",
    "        new_str = new_str + test_str[i]\n",
    "  \n",
    "print(\"The string after removal of i'th character : \" + new_str)"
   ]
  },
  {
   "cell_type": "code",
   "execution_count": 10,
   "id": "99c4d8bb",
   "metadata": {},
   "outputs": [
    {
     "name": "stdout",
     "output_type": "stream",
     "text": [
      "The original string is : GeeksForGeeks\n",
      "The string after removal of i'th character( doesn't work) : GksForGks\n",
      "The string after removal of i'th character(works) : GeekForGeeks\n"
     ]
    }
   ],
   "source": [
    "test_str = \"GeeksForGeeks\"\n",
    "  \n",
    "print (\"The original string is : \" + test_str)\n",
    "  \n",
    "new_str = test_str.replace('e', '')\n",
    "  \n",
    "print (\"The string after removal of i'th character( doesn't work) : \" + new_str)\n",
    "  \n",
    "new_str = test_str.replace('s', '', 1)\n",
    "  \n",
    "print (\"The string after removal of i'th character(works) : \" + new_str)"
   ]
  },
  {
   "cell_type": "code",
   "execution_count": 57,
   "id": "9e9de6d6",
   "metadata": {},
   "outputs": [
    {
     "name": "stdout",
     "output_type": "stream",
     "text": [
      "my\n",
      "name is sachin\n"
     ]
    }
   ],
   "source": [
    "str = \"my name is sachin\"\n",
    "print(str[:2])\n",
    "print(str[3:])\n"
   ]
  },
  {
   "cell_type": "code",
   "execution_count": 63,
   "id": "7a7820de",
   "metadata": {},
   "outputs": [
    {
     "name": "stdout",
     "output_type": "stream",
     "text": [
      "my\n",
      "name,\n",
      "is\n",
      "sachin\n",
      "myname,issachin\n",
      "my name\n",
      " is sachin\n"
     ]
    }
   ],
   "source": [
    "#remove spaces in string\n",
    "str = \"my name, is sachin\"\n",
    "str1=\"\"\n",
    "for i in str.split(\" \"):\n",
    "    print(i)\n",
    "    str1=str1+i\n",
    "print(str1)\n",
    "for i in str.split(\",\"):\n",
    "    print(i)\n"
   ]
  },
  {
   "cell_type": "code",
   "execution_count": 70,
   "id": "4205b4d7",
   "metadata": {},
   "outputs": [
    {
     "name": "stdout",
     "output_type": "stream",
     "text": [
      "each letter of a string m\n",
      "each letter of a string y\n",
      "each letter of a string  \n",
      "each letter of a string n\n",
      "each letter of a string a\n",
      "each letter of a string m\n",
      "each letter of a string e\n",
      "each letter of a string  \n",
      "each letter of a string i\n",
      "each letter of a string s\n",
      "each letter of a string  \n",
      "each letter of a string p\n",
      "each letter of a string r\n",
      "each letter of a string a\n",
      "each letter of a string k\n",
      "each letter of a string a\n",
      "each letter of a string s\n",
      "each letter of a string h\n",
      "every even positions of string m\n",
      "every even positions of string  \n",
      "every even positions of string a\n",
      "every even positions of string e\n",
      "every even positions of string i\n",
      "every even positions of string  \n",
      "every even positions of string r\n",
      "every even positions of string k\n",
      "every even positions of string s\n",
      "every even positions from last h\n",
      "every even positions from last a\n",
      "every even positions from last a\n",
      "every even positions from last p\n",
      "every even positions from last s\n",
      "every even positions from last  \n",
      "every even positions from last m\n",
      "every even positions from last n\n",
      "every even positions from last y\n"
     ]
    }
   ],
   "source": [
    "str = \"my name is prakash\"\n",
    "for i in str[::]:\n",
    "    print(\"each letter of a string\",i)\n",
    "for i in str[::2]:\n",
    "    print(\"every even positions of string\",i)\n",
    "for i in str[::-2]:\n",
    "    print(\"every even positions from last\",i)   "
   ]
  },
  {
   "cell_type": "code",
   "execution_count": 95,
   "id": "383fc13e",
   "metadata": {},
   "outputs": [
    {
     "name": "stdout",
     "output_type": "stream",
     "text": [
      "capitalise My name is sachin\n",
      "convert string to lowercase my name is sachin\n",
      "Centered string  my name is sachin  \n",
      "count the s is  2\n",
      "Find position of my 9\n",
      "find index of s 9\n",
      "Partition ('my name ', 'is', ' sachin')\n",
      "repace values my name ie eachin\n",
      "check if sthe string starts with  True\n",
      "Removes traiilng spaces my name is Sachin\n",
      "Swapcase MY NAME IS SACHIN\n",
      "translate     my name is Pachin    \n"
     ]
    }
   ],
   "source": [
    "str = \"my name is sachin\"\n",
    "str1= \"    my name is Sachin    \"\n",
    "mydict = {83:  80}\n",
    "\n",
    "print(\"capitalise\",str.capitalize())\n",
    "print(\"convert string to lowercase\", str.casefold())\n",
    "#need to mention n(20) as no of spaces\n",
    "print(\"Centered string\",str.center(20))\n",
    "\n",
    "print(\"count the s is \",str.count(\"s\"))\n",
    "#return position of character as the first occurrence only\n",
    "print(\"Find position of my\",str.find(\"s\"))\n",
    "print(\"find index of s\",str.index(\"s\"))\n",
    "\n",
    "print(\"Partition\", str.partition(\"is\"))\n",
    "print(\"repace values\", str.replace(\"s\",\"e\"))\n",
    "\n",
    "print(\"check if sthe string starts with \",str.startswith(\"my\"))\n",
    "print(\"Removes traiilng spaces\",str1.strip())\n",
    "\n",
    "print(\"Swapcase\",str.swapcase())\n",
    "#Replace any \"S\" characters with a \"P\" character: \n",
    "#use a dictionary with ascii codes to replace 83 (S) with 80 (P)\n",
    "print(\"translate\",str1.translate(mydict))"
   ]
  },
  {
   "cell_type": "code",
   "execution_count": 1,
   "id": "0d74f555",
   "metadata": {},
   "outputs": [
    {
     "name": "stdout",
     "output_type": "stream",
     "text": [
      "The original string is : geeksforgeeks 33 is   best\n",
      "The Characters Frequency avoiding spaces : 21\n"
     ]
    }
   ],
   "source": [
    "test_str = 'geeksforgeeks 33 is   best'\n",
    " \n",
    "# printing original string\n",
    "print(\"The original string is : \" + str(test_str))\n",
    " \n",
    "# len() finds individual word Frequency\n",
    "# sum() extracts final Frequency\n",
    "res = sum(map(len, test_str.split()))\n",
    "     \n",
    "# printing result\n",
    "print(\"The Characters Frequency avoiding spaces : \" + str(res))"
   ]
  },
  {
   "cell_type": "code",
   "execution_count": 3,
   "id": "9563b901",
   "metadata": {},
   "outputs": [
    {
     "name": "stdout",
     "output_type": "stream",
     "text": [
      "Printing the words which have an even length\n",
      "This\n",
      "is\n",
      "python\n",
      "language\n"
     ]
    }
   ],
   "source": [
    "n=\"This is a python language\"\n",
    "#splitting the words in a given string\n",
    "print(\"Printing the words which have an even length\")\n",
    "s=n.split(\" \")\n",
    "for i in s:\n",
    "  #checking the length of words\n",
    "  if len(i)%2==0:\n",
    "    print(i)"
   ]
  },
  {
   "cell_type": "code",
   "execution_count": 4,
   "id": "53167381",
   "metadata": {},
   "outputs": [
    {
     "name": "stdout",
     "output_type": "stream",
     "text": [
      "['geek']\n"
     ]
    }
   ],
   "source": [
    "#input string\n",
    "n=\"geeks for geek\"\n",
    "#splitting the words in a given string\n",
    "s=n.split(\" \")\n",
    "l=list(filter(lambda x: (len(x)%2==0),s))\n",
    "print(l)"
   ]
  },
  {
   "cell_type": "code",
   "execution_count": 5,
   "id": "7420a22b",
   "metadata": {},
   "outputs": [
    {
     "name": "stdout",
     "output_type": "stream",
     "text": [
      "The original string is : geeksforgeeks\n",
      "The resultant string : geeksfORGEEKS\n"
     ]
    }
   ],
   "source": [
    "test_str = 'geeksforgeeks'\n",
    " \n",
    "# printing original string\n",
    "print(\"The original string is : \" + str(test_str))\n",
    " \n",
    "# computing half index\n",
    "hlf_idx = len(test_str) // 2\n",
    " \n",
    "res = ''\n",
    "for idx in range(len(test_str)):\n",
    "     \n",
    "    # uppercasing later half\n",
    "    if idx >= hlf_idx:\n",
    "      res += test_str[idx].upper()\n",
    "    else :\n",
    "      res += test_str[idx]\n",
    "         \n",
    "# printing result\n",
    "print(\"The resultant string : \" + str(res))"
   ]
  },
  {
   "cell_type": "code",
   "execution_count": 6,
   "id": "2e80e0f0",
   "metadata": {},
   "outputs": [
    {
     "name": "stdout",
     "output_type": "stream",
     "text": [
      "String before: welcome to geeksforgeeks\n",
      "String after: WelcomE TO GeeksforgeekS\n"
     ]
    }
   ],
   "source": [
    "def word_both_cap(str):\n",
    "     \n",
    "    #lambda function for capitalizing the\n",
    "    # first and last letter of words in\n",
    "    # the string\n",
    "    return ' '.join(map(lambda s: s[:-1]+s[-1].upper(),\n",
    "                        s.title().split()))\n",
    "     \n",
    "     \n",
    "# Driver's code\n",
    "s = \"welcome to geeksforgeeks\"\n",
    "print(\"String before:\", s)\n",
    "print(\"String after:\", word_both_cap(str))"
   ]
  },
  {
   "cell_type": "code",
   "execution_count": 7,
   "id": "4e713b6a",
   "metadata": {},
   "outputs": [
    {
     "name": "stdout",
     "output_type": "stream",
     "text": [
      "String before: welcome to geeksforgeeks\n",
      "String after: WelcomE TO GeeksforgeekS\n"
     ]
    }
   ],
   "source": [
    "s = \"welcome to geeksforgeeks\"\n",
    "print(\"String before:\", s)\n",
    "a=s.split()\n",
    "res=[]\n",
    "for i in a:\n",
    "    x=i[0].upper()+i[1:-1]+i[-1].upper()\n",
    "    res.append(x)\n",
    "res=\" \".join(res)\n",
    "print(\"String after:\", res)"
   ]
  },
  {
   "cell_type": "code",
   "execution_count": 9,
   "id": "4cc103a3",
   "metadata": {},
   "outputs": [
    {
     "name": "stdout",
     "output_type": "stream",
     "text": [
      "True\n",
      "False\n"
     ]
    }
   ],
   "source": [
    "def checkString(str):\n",
    "   \n",
    "    # initializing flag variable\n",
    "    flag_l = False\n",
    "    flag_n = False\n",
    "     \n",
    "    # checking for letter and numbers in\n",
    "    # given string\n",
    "    for i in str:\n",
    "       \n",
    "        # if string has letter\n",
    "        if i.isalpha():\n",
    "            flag_l = True\n",
    " \n",
    "        # if string has number\n",
    "        if i.isdigit():\n",
    "            flag_n = True\n",
    "     \n",
    "    # returning and of flag\n",
    "    # for checking required condition\n",
    "    return flag_l and flag_n\n",
    " \n",
    " \n",
    "# driver code\n",
    "print(checkString('thishasboth29'))\n",
    "print(checkString('geeksforgeeks'))\n"
   ]
  },
  {
   "cell_type": "code",
   "execution_count": 10,
   "id": "09bcc506",
   "metadata": {},
   "outputs": [
    {
     "name": "stdout",
     "output_type": "stream",
     "text": [
      "not accepted\n"
     ]
    }
   ],
   "source": [
    "def check(string):\n",
    "    if len(set(string.lower()).intersection(\"aeiou\")) >= 5:\n",
    "        return ('accepted')\n",
    "    else:\n",
    "        return (\"not accepted\")\n",
    "  \n",
    "  \n",
    "# Driver code\n",
    "if __name__ == \"__main__\":\n",
    "    string = \"geeksforgeeks\"\n",
    "    print(check(string))"
   ]
  },
  {
   "cell_type": "code",
   "execution_count": 11,
   "id": "a6d6c2c7",
   "metadata": {},
   "outputs": [
    {
     "name": "stdout",
     "output_type": "stream",
     "text": [
      "Accepted\n"
     ]
    }
   ],
   "source": [
    "import re\n",
    "  \n",
    "sampleInput = \"aeioAEiuioea\"\n",
    "  \n",
    "# regular expression to find the strings\n",
    "# which have characters other than a,e,i,o and u\n",
    "c = re.compile('[^aeiouAEIOU]')\n",
    "  \n",
    "# use findall() to get the list of strings\n",
    "# that have characters other than a,e,i,o and u.\n",
    "if(len(c.findall(sampleInput))):\n",
    "    print(\"Not Accepted\")  # if length of list > 0 then it is not accepted\n",
    "else:\n",
    "    print(\"Accepted\")"
   ]
  },
  {
   "cell_type": "code",
   "execution_count": 12,
   "id": "912edc0e",
   "metadata": {},
   "outputs": [
    {
     "name": "stdout",
     "output_type": "stream",
     "text": [
      "No. of matching characters are : 5\n"
     ]
    }
   ],
   "source": [
    "def count(str1 ,str2) :\n",
    "    # set of characters of string1\n",
    "    set_string1 = set(str1)\n",
    "  \n",
    "    # set of characters of string2\n",
    "    set_string2 = set(str2)\n",
    "  \n",
    "    # using (&) intersection mathematical operation on sets\n",
    "    # the unique characters present in both the strings\n",
    "    # are stored in matched_characters set variable\n",
    "    matched_characters = set_string1 & set_string2\n",
    "  \n",
    "    # printing the length of matched_characters set\n",
    "    # gives the no. of matched characters\n",
    "    print(\"No. of matching characters are : \" + str(len(matched_characters)) )\n",
    "    \n",
    "    \n",
    "    \n",
    "str1 = 'aabcddekll12@'  # first string\n",
    "str2 = 'bb2211@55k'     # second string\n",
    "\n",
    "# call count function \n",
    "count( str1 , str2 )"
   ]
  },
  {
   "cell_type": "code",
   "execution_count": 13,
   "id": "f7158551",
   "metadata": {},
   "outputs": [
    {
     "name": "stdout",
     "output_type": "stream",
     "text": [
      "No. of matching characters are  5\n"
     ]
    }
   ],
   "source": [
    "import re\n",
    "ip1 = \"geeks\"\n",
    "ip2 = \"geeksonly\"\n",
    "  \n",
    "c = 0\n",
    "for i in ip1:\n",
    "    if re.search(i,ip2):\n",
    "        c=c+1\n",
    "print(\"No. of matching characters are \", c)"
   ]
  },
  {
   "cell_type": "code",
   "execution_count": 17,
   "id": "061b3a50",
   "metadata": {},
   "outputs": [
    {
     "name": "stdout",
     "output_type": "stream",
     "text": [
      "cmyamysmye\n"
     ]
    }
   ],
   "source": [
    "str1= \"my\"\n",
    "str2 = \"case\"\n",
    "print(str1.join(str2))"
   ]
  },
  {
   "cell_type": "code",
   "execution_count": 19,
   "id": "49e85838",
   "metadata": {},
   "outputs": [
    {
     "name": "stdout",
     "output_type": "stream",
     "text": [
      "Data Scientists#Machine Learning#Data Science\n"
     ]
    }
   ],
   "source": [
    "myTuple = (\"Data Scientists\", \"Machine Learning\", \"Data Science\")\n",
    "x = \"#\".join(myTuple)\n",
    "print(x)"
   ]
  },
  {
   "cell_type": "code",
   "execution_count": 28,
   "id": "29479955",
   "metadata": {},
   "outputs": [
    {
     "name": "stdout",
     "output_type": "stream",
     "text": [
      "The original string is : GeeksforGeeks\n",
      "The minimum of all characters in GeeksforGeeks is :  f\n"
     ]
    }
   ],
   "source": [
    "test_str = \"GeeksforGeeks\"\n",
    " \n",
    "# printing original string\n",
    "print (\"The original string is : \" + test_str)\n",
    " \n",
    "# using naive method to get\n",
    "# Least Frequent Character in String\n",
    "all_freq = {}\n",
    "for i in test_str:\n",
    "    if i in all_freq:\n",
    "        all_freq[i] += 1\n",
    "    else:\n",
    "        all_freq[i] = 1\n",
    "res = min(all_freq, key = all_freq.get)\n",
    " \n",
    "# printing result\n",
    "print (\"The minimum of all characters in GeeksforGeeks is : \" ,res)"
   ]
  },
  {
   "cell_type": "code",
   "execution_count": 23,
   "id": "8cf0acdd",
   "metadata": {},
   "outputs": [
    {
     "name": "stdout",
     "output_type": "stream",
     "text": [
      "14.625.498, 002\n"
     ]
    }
   ],
   "source": [
    "def Replace(str1):\n",
    "    maketrans = str1.maketrans\n",
    "    final = str1.translate(maketrans(',.', '.,', ' '))\n",
    "    return final.replace(',', \", \")\n",
    " \n",
    " \n",
    "# Driving Code\n",
    "string = \"14, 625, 498.002\"\n",
    "print(Replace(string))"
   ]
  },
  {
   "cell_type": "code",
   "execution_count": 27,
   "id": "60e4d1dc",
   "metadata": {},
   "outputs": [
    {
     "name": "stdout",
     "output_type": "stream",
     "text": [
      "The original string is : geekforgeeks is best for geeks\n",
      "The Odd Frequency Characters are :  ['g', 'e', 'k', 'i', 'b', 't']\n"
     ]
    }
   ],
   "source": [
    "from collections import Counter\n",
    " \n",
    "# initializing string\n",
    "test_str = 'geekforgeeks is best for geeks'\n",
    " \n",
    "# printing original string\n",
    "print(\"The original string is : \" + test_str)\n",
    " \n",
    "# Odd Frequency Characters\n",
    "# Using list comprehension + Counter()\n",
    "res =  [ chr for chr, count in Counter(test_str).items() if count & 1 ]\n",
    " \n",
    "# printing result\n",
    "print(\"The Odd Frequency Characters are : \" , res)"
   ]
  },
  {
   "cell_type": "code",
   "execution_count": null,
   "id": "a2b77532",
   "metadata": {},
   "outputs": [],
   "source": []
  }
 ],
 "metadata": {
  "kernelspec": {
   "display_name": "Python 3 (ipykernel)",
   "language": "python",
   "name": "python3"
  },
  "language_info": {
   "codemirror_mode": {
    "name": "ipython",
    "version": 3
   },
   "file_extension": ".py",
   "mimetype": "text/x-python",
   "name": "python",
   "nbconvert_exporter": "python",
   "pygments_lexer": "ipython3",
   "version": "3.9.12"
  }
 },
 "nbformat": 4,
 "nbformat_minor": 5
}
