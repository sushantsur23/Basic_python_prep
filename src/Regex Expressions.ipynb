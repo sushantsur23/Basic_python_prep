{
 "cells": [
  {
   "cell_type": "markdown",
   "metadata": {},
   "source": [
    "A RegEx, or Regular Expression, is a sequence of characters that forms a search pattern.\n",
    "\n",
    "RegEx can be used to check if a string contains the specified search pattern.\n",
    "Python has a built-in package called re, which can be used to work with Regular Expressions."
   ]
  },
  {
   "cell_type": "markdown",
   "metadata": {},
   "source": [
    "Complete list of sequences\n",
    "\\d\n",
    "Matches any decimal digit; this is equivalent to the class [0-9].\n",
    "\n",
    "\\D\n",
    "Matches any non-digit character; this is equivalent to the class [^0-9].\n",
    "\n",
    "\\s\n",
    "Matches any whitespace character; this is equivalent to the class [ \\t\\n\\r\\f\\v].\n",
    "\n",
    "\\S\n",
    "Matches any non-whitespace character; this is equivalent to the class [^ \\t\\n\\r\\f\\v].\n",
    "\n",
    "\\w\n",
    "Matches any alphanumeric character; this is equivalent to the class [a-zA-Z0-9_].\n",
    "\n",
    "\\W\n",
    "Matches any non-alphanumeric character; this is equivalent to the class [^a-zA-Z0-9_].\n",
    "\n",
    "These sequences can be included inside a character class. For example, [\\s,.] is a character class that will match any whitespace character, or ',' or '.'.\n",
    "\n",
    "The final metacharacter in this section is .. It matches anything except a newline character, and there’s an alternate mode (re.DOTALL) where it will match even a newline. . is often used where you want to match “any character”."
   ]
  },
  {
   "cell_type": "code",
   "execution_count": 4,
   "metadata": {},
   "outputs": [
    {
     "name": "stdout",
     "output_type": "stream",
     "text": [
      "YES! We have a match!\n"
     ]
    }
   ],
   "source": [
    "import re\n",
    "#Check if the string starts with \"The\" and ends with \"Spain\":\n",
    "txt = \"The rain in Spain\"\n",
    "x = re.search(\"^The.*Spain$\", txt)\n",
    "\n",
    "if x:\n",
    "  print(\"YES! We have a match!\")\n",
    "else:\n",
    "  print(\"No match\")"
   ]
  },
  {
   "cell_type": "markdown",
   "metadata": {},
   "source": [
    "Function\tDescription\n",
    "findall\t    Returns a list containing all matches\n",
    "search\t    Returns a Match object if there is a match anywhere in the string\n",
    "split\t    Returns a list where the string has been split at each match\n",
    "sub\t        Replaces one or many matches with a string\n",
    "finditer()  Find all substrings where the RE matches, and returns them as an iterator.\n",
    "group()     Return the string matched by the RE\n",
    "start()     Return the starting position of the match\n",
    "end()       Return the ending position of the match\n",
    "span()      Return a tuple containing the (start, end) positions of the match"
   ]
  },
  {
   "cell_type": "markdown",
   "metadata": {},
   "source": [
    "Character\tDescription\t                                                                Example\n",
    "[]\t        A set of characters\t                                                        \"[a-m]\"\t\n",
    "\\\t        Signals a special sequence (can also be used to escape special characters)\t\"\\d\"\t\n",
    ".\t        Any character (except newline character)\t                                \"he..o\"\t\n",
    "^\t        Starts with\t                                                                \"^hello\"\t\n",
    "$\t        Ends with\t                                                                \"world$\"\t\n",
    "*\t        Zero or more occurrences\t                                                \"aix*\"\t\n",
    "+\t        One or more occurrences\t                                                    \"aix+\"\t\n",
    "{}\t        Exactly the specified number of occurrences\t                                \"al{2}\"\t\n",
    "|\t        Either or\t                                                                \"falls|stays\"\t\n",
    "()\t        Capture and group"
   ]
  },
  {
   "cell_type": "code",
   "execution_count": 5,
   "metadata": {},
   "outputs": [
    {
     "name": "stdout",
     "output_type": "stream",
     "text": [
      "['ai', 'ai']\n"
     ]
    }
   ],
   "source": [
    "import re\n",
    "\n",
    "txt = \"The rain in Spain\"\n",
    "x = re.findall(\"ai\", txt)\n",
    "print(x)"
   ]
  },
  {
   "cell_type": "code",
   "execution_count": 6,
   "metadata": {},
   "outputs": [
    {
     "name": "stdout",
     "output_type": "stream",
     "text": [
      "[]\n"
     ]
    }
   ],
   "source": [
    "import re\n",
    "\n",
    "txt = \"The rain in Spain\"\n",
    "x = re.findall(\"Portugal\", txt)\n",
    "print(x)"
   ]
  },
  {
   "cell_type": "code",
   "execution_count": 7,
   "metadata": {},
   "outputs": [
    {
     "name": "stdout",
     "output_type": "stream",
     "text": [
      "The first white-space character is located in position: 3\n"
     ]
    }
   ],
   "source": [
    "import re\n",
    "\n",
    "txt = \"The rain in Spain\"\n",
    "x = re.search(\"\\s\", txt)\n",
    "\n",
    "print(\"The first white-space character is located in position:\", x.start())"
   ]
  },
  {
   "cell_type": "code",
   "execution_count": 8,
   "metadata": {},
   "outputs": [
    {
     "name": "stdout",
     "output_type": "stream",
     "text": [
      "['The', 'rain', 'in', 'Spain']\n"
     ]
    }
   ],
   "source": [
    "import re\n",
    "\n",
    "txt = \"The rain in Spain\"\n",
    "x = re.split(\"\\s\", txt)\n",
    "print(x)"
   ]
  },
  {
   "cell_type": "code",
   "execution_count": 9,
   "metadata": {},
   "outputs": [
    {
     "name": "stdout",
     "output_type": "stream",
     "text": [
      "The9rain9in9Spain\n"
     ]
    }
   ],
   "source": [
    "import re\n",
    "#Replace every white-space character with the number 9:\n",
    "txt = \"The rain in Spain\"\n",
    "x = re.sub(\"\\s\", \"9\", txt)\n",
    "print(x)"
   ]
  },
  {
   "cell_type": "code",
   "execution_count": null,
   "metadata": {},
   "outputs": [],
   "source": [
    "import re\n",
    "#You can control the number of replacements by specifying the count parameter:\n",
    "txt = \"The rain in Spain\"\n",
    "x = re.sub(\"\\s\", \"9\", txt, 2)\n",
    "print(x)"
   ]
  },
  {
   "cell_type": "markdown",
   "metadata": {},
   "source": [
    "A Match Object is an object containing information about the search and the result."
   ]
  },
  {
   "cell_type": "code",
   "execution_count": 10,
   "metadata": {},
   "outputs": [
    {
     "name": "stdout",
     "output_type": "stream",
     "text": [
      "<re.Match object; span=(5, 7), match='ai'>\n"
     ]
    }
   ],
   "source": [
    "import re\n",
    "\n",
    "txt = \"The rain in Spain\"\n",
    "x = re.search(\"ai\", txt)\n",
    "print(x) #this will print an object"
   ]
  },
  {
   "cell_type": "markdown",
   "metadata": {},
   "source": [
    "The Match object has properties and methods used to retrieve information about the search, and the result:\n",
    "\n",
    ".span() returns a tuple containing the start-, and end positions of the match.\n",
    ".string returns the string passed into the function\n",
    ".group() returns the part of the string where there was a match"
   ]
  },
  {
   "cell_type": "code",
   "execution_count": 11,
   "metadata": {},
   "outputs": [
    {
     "name": "stdout",
     "output_type": "stream",
     "text": [
      "(12, 17)\n"
     ]
    }
   ],
   "source": [
    "import re\n",
    "\n",
    "txt = \"The rain in Spain\"\n",
    "x = re.search(r\"\\bS\\w+\", txt)\n",
    "print(x.span())"
   ]
  },
  {
   "cell_type": "code",
   "execution_count": 13,
   "metadata": {},
   "outputs": [
    {
     "name": "stdout",
     "output_type": "stream",
     "text": [
      "Spain\n"
     ]
    }
   ],
   "source": [
    "#Print the part of the string where there was a match.\n",
    "import re\n",
    "\n",
    "txt = \"The rain in Spain\"\n",
    "x = re.search(r\"\\bS\\w+\", txt)\n",
    "print(x.group())"
   ]
  },
  {
   "cell_type": "code",
   "execution_count": 14,
   "metadata": {},
   "outputs": [
    {
     "data": {
      "text/plain": [
       "re.compile(r'[a-z]+', re.UNICODE)"
      ]
     },
     "execution_count": 14,
     "metadata": {},
     "output_type": "execute_result"
    }
   ],
   "source": [
    "import re\n",
    "p = re.compile('[a-z]+')\n",
    "p\n",
    "re.compile('[a-z]+')"
   ]
  },
  {
   "cell_type": "code",
   "execution_count": 15,
   "metadata": {},
   "outputs": [
    {
     "name": "stdout",
     "output_type": "stream",
     "text": [
      "None\n"
     ]
    }
   ],
   "source": [
    "p.match(\"\")\n",
    "print(p.match(\"\"))"
   ]
  },
  {
   "cell_type": "code",
   "execution_count": 16,
   "metadata": {},
   "outputs": [
    {
     "data": {
      "text/plain": [
       "<re.Match object; span=(0, 5), match='tempo'>"
      ]
     },
     "execution_count": 16,
     "metadata": {},
     "output_type": "execute_result"
    }
   ],
   "source": [
    "m = p.match('tempo')\n",
    "m"
   ]
  },
  {
   "cell_type": "code",
   "execution_count": null,
   "metadata": {},
   "outputs": [],
   "source": []
  },
  {
   "cell_type": "code",
   "execution_count": null,
   "metadata": {},
   "outputs": [],
   "source": []
  },
  {
   "cell_type": "code",
   "execution_count": null,
   "metadata": {},
   "outputs": [],
   "source": []
  },
  {
   "cell_type": "code",
   "execution_count": null,
   "metadata": {},
   "outputs": [],
   "source": []
  },
  {
   "cell_type": "code",
   "execution_count": null,
   "metadata": {},
   "outputs": [],
   "source": []
  },
  {
   "cell_type": "code",
   "execution_count": null,
   "metadata": {},
   "outputs": [],
   "source": []
  },
  {
   "cell_type": "code",
   "execution_count": null,
   "metadata": {},
   "outputs": [],
   "source": []
  },
  {
   "cell_type": "code",
   "execution_count": null,
   "metadata": {},
   "outputs": [],
   "source": []
  },
  {
   "cell_type": "code",
   "execution_count": null,
   "metadata": {},
   "outputs": [],
   "source": []
  },
  {
   "cell_type": "code",
   "execution_count": null,
   "metadata": {},
   "outputs": [],
   "source": []
  },
  {
   "cell_type": "code",
   "execution_count": null,
   "metadata": {},
   "outputs": [],
   "source": []
  },
  {
   "cell_type": "code",
   "execution_count": null,
   "metadata": {},
   "outputs": [],
   "source": []
  },
  {
   "cell_type": "code",
   "execution_count": null,
   "metadata": {},
   "outputs": [],
   "source": []
  },
  {
   "cell_type": "code",
   "execution_count": null,
   "metadata": {},
   "outputs": [],
   "source": []
  },
  {
   "cell_type": "code",
   "execution_count": null,
   "metadata": {},
   "outputs": [],
   "source": []
  },
  {
   "cell_type": "code",
   "execution_count": null,
   "metadata": {},
   "outputs": [],
   "source": []
  },
  {
   "cell_type": "code",
   "execution_count": null,
   "metadata": {},
   "outputs": [],
   "source": []
  },
  {
   "cell_type": "code",
   "execution_count": null,
   "metadata": {},
   "outputs": [],
   "source": []
  },
  {
   "cell_type": "code",
   "execution_count": null,
   "metadata": {},
   "outputs": [],
   "source": []
  },
  {
   "cell_type": "code",
   "execution_count": null,
   "metadata": {},
   "outputs": [],
   "source": []
  },
  {
   "cell_type": "code",
   "execution_count": null,
   "metadata": {},
   "outputs": [],
   "source": []
  },
  {
   "cell_type": "code",
   "execution_count": null,
   "metadata": {},
   "outputs": [],
   "source": []
  },
  {
   "cell_type": "code",
   "execution_count": null,
   "metadata": {},
   "outputs": [],
   "source": []
  },
  {
   "cell_type": "code",
   "execution_count": null,
   "metadata": {},
   "outputs": [],
   "source": []
  }
 ],
 "metadata": {
  "kernelspec": {
   "display_name": "Python 3.9.12 ('base')",
   "language": "python",
   "name": "python3"
  },
  "language_info": {
   "codemirror_mode": {
    "name": "ipython",
    "version": 3
   },
   "file_extension": ".py",
   "mimetype": "text/x-python",
   "name": "python",
   "nbconvert_exporter": "python",
   "pygments_lexer": "ipython3",
   "version": "3.9.12"
  },
  "vscode": {
   "interpreter": {
    "hash": "ad59e3735c180bf85280840859ca597dc2a71cb0dc18ffef2f37486fd3950a17"
   }
  }
 },
 "nbformat": 4,
 "nbformat_minor": 4
}
