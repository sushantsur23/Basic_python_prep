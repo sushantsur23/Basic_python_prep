{
 "cells": [
  {
   "cell_type": "markdown",
   "metadata": {},
   "source": [
    "Finding out repetition of letters in a word with the shortest way"
   ]
  },
  {
   "cell_type": "code",
   "execution_count": 7,
   "metadata": {},
   "outputs": [
    {
     "name": "stdout",
     "output_type": "stream",
     "text": [
      "{'s': 1, 'u': 1, 'h': 1, 'a': 1, 'n': 1, 't': 1}\n"
     ]
    }
   ],
   "source": [
    "str1 = \"Sushant\"\n",
    "dict1={}\n",
    "for i in str1.lower():\n",
    "    dict1[i]=str1.count(i)\n",
    "print(dict1)"
   ]
  },
  {
   "cell_type": "code",
   "execution_count": null,
   "metadata": {},
   "outputs": [
    {
     "name": "stdout",
     "output_type": "stream",
     "text": [
      "{'m': 2, 'd': 1, 'a': 2}\n"
     ]
    }
   ],
   "source": [
    "import re\n",
    "str1 = \"madam\"\n",
    "str2 = list(set(str1))\n",
    "dict2 ={}\n",
    "for i in str2:\n",
    "    dict2[i] = len(re.findall(i, str1))\n",
    "\n",
    "print(dict2)"
   ]
  },
  {
   "cell_type": "markdown",
   "metadata": {},
   "source": [
    "Sort a list in the the most efficient way without sort function"
   ]
  },
  {
   "cell_type": "code",
   "execution_count": null,
   "metadata": {},
   "outputs": [
    {
     "name": "stdout",
     "output_type": "stream",
     "text": [
      "Sorted list is [-5, 3, 4, 6, 12, 59]\n"
     ]
    }
   ],
   "source": [
    "l = [12,3,4,6,59,-5]\n",
    "n = len(l)\n",
    "l1= []\n",
    "for i in range(n):\n",
    "    l1.append(min(l))\n",
    "    l.remove(min(l))\n",
    "print(\"Sorted list is\",l1)"
   ]
  },
  {
   "cell_type": "markdown",
   "metadata": {},
   "source": [
    "Mean"
   ]
  },
  {
   "cell_type": "code",
   "execution_count": null,
   "metadata": {},
   "outputs": [
    {
     "name": "stdout",
     "output_type": "stream",
     "text": [
      "mean = 5.0\n"
     ]
    }
   ],
   "source": [
    "numb = [2, 3, 5, 7, 8]\n",
    "mean = sum(numb)/len(numb)\n",
    "print(f\"mean = {mean}\")"
   ]
  },
  {
   "cell_type": "markdown",
   "metadata": {},
   "source": [
    "Median"
   ]
  },
  {
   "cell_type": "code",
   "execution_count": null,
   "metadata": {},
   "outputs": [
    {
     "name": "stdout",
     "output_type": "stream",
     "text": [
      "median = 5\n"
     ]
    }
   ],
   "source": [
    "numb = [2, 3, 5, 7, 8]\n",
    "no = len(numb)\n",
    "if (no %2 ==0):\n",
    "    median1 = numb[no//2]\n",
    "    median2 = numb[no//2 - 1]\n",
    "    median = (median1+median2)/2\n",
    "else:\n",
    "    median = numb[no//2]\n",
    "print(f\"median = {median}\")"
   ]
  },
  {
   "cell_type": "markdown",
   "metadata": {},
   "source": [
    "Mode"
   ]
  },
  {
   "cell_type": "code",
   "execution_count": null,
   "metadata": {},
   "outputs": [
    {
     "data": {
      "text/plain": [
       "2"
      ]
     },
     "execution_count": 2,
     "metadata": {},
     "output_type": "execute_result"
    }
   ],
   "source": [
    "def mode(ls):\n",
    "    d = {}\n",
    "    for i in ls:\n",
    "        if i in d:\n",
    "            d[i] += 1\n",
    "        else:\n",
    "            d[i] = 1\n",
    "    max_value = max(d.values())\n",
    "    for key in d:\n",
    "        if d[key] == max_value:\n",
    "            return key\n",
    "mode([2,3,4,5,6,2,2,6,2,9])"
   ]
  },
  {
   "cell_type": "markdown",
   "metadata": {},
   "source": [
    "Store a 3 digit number and sum up the digits"
   ]
  },
  {
   "cell_type": "code",
   "execution_count": null,
   "metadata": {},
   "outputs": [
    {
     "name": "stdout",
     "output_type": "stream",
     "text": [
      "12\n"
     ]
    }
   ],
   "source": [
    "n,s = 354, 0\n",
    "while n>0:\n",
    "    s += n%10\n",
    "    n = n//10\n",
    "print(s)\n"
   ]
  },
  {
   "cell_type": "markdown",
   "metadata": {},
   "source": [
    "Store a number and reverse them"
   ]
  },
  {
   "cell_type": "code",
   "execution_count": null,
   "metadata": {},
   "outputs": [
    {
     "name": "stdout",
     "output_type": "stream",
     "text": [
      "865\n"
     ]
    }
   ],
   "source": [
    "n,rev = 568,0\n",
    "\n",
    "while n>0:\n",
    "    rev = rev*10 + n%10\n",
    "    n = n//10\n",
    "print(rev)"
   ]
  },
  {
   "cell_type": "markdown",
   "metadata": {},
   "source": [
    "Factorial of a number"
   ]
  },
  {
   "cell_type": "code",
   "execution_count": null,
   "metadata": {},
   "outputs": [
    {
     "name": "stdout",
     "output_type": "stream",
     "text": [
      "factorial is  120\n"
     ]
    }
   ],
   "source": [
    "n,f = 5,1\n",
    "for i in range(1,n+1):\n",
    "    f=f*i\n",
    "\n",
    "print(\"factorial is \",f)"
   ]
  },
  {
   "cell_type": "markdown",
   "metadata": {},
   "source": [
    "Strong number means for 54 if 5+4= to the same number  "
   ]
  },
  {
   "cell_type": "code",
   "execution_count": null,
   "metadata": {},
   "outputs": [
    {
     "name": "stdout",
     "output_type": "stream",
     "text": [
      "not a strong number\n"
     ]
    }
   ],
   "source": [
    "n,s = 45,0\n",
    "while n>0:\n",
    "    s += n%10\n",
    "    n = n//10\n",
    "\n",
    "if (s==n):\n",
    "    print(\"strong number\")\n",
    "else:\n",
    "    print(\"not a strong number\")"
   ]
  },
  {
   "cell_type": "markdown",
   "metadata": {},
   "source": [
    "Fibbonacci series"
   ]
  },
  {
   "cell_type": "code",
   "execution_count": null,
   "metadata": {},
   "outputs": [
    {
     "name": "stdout",
     "output_type": "stream",
     "text": [
      "[0, 1, 1, 2, 3, 5, 8, 13, 21, 34, 55]\n"
     ]
    }
   ],
   "source": [
    "n,sum,a,b = 9,0,0,1\n",
    "s=[0,1]\n",
    "if n>1:\n",
    "    for i in range(1,n+1):\n",
    "        sum =a+b\n",
    "        a=b\n",
    "        b=sum\n",
    "        s.append(sum)\n",
    "else:\n",
    "    print(\"not a valid number\")\n",
    "print(s)"
   ]
  },
  {
   "cell_type": "markdown",
   "metadata": {},
   "source": [
    "Armstrong number if for 53 (5)^3+(3)^3=53"
   ]
  },
  {
   "cell_type": "code",
   "execution_count": null,
   "metadata": {},
   "outputs": [
    {
     "name": "stdout",
     "output_type": "stream",
     "text": [
      "armstrong number\n"
     ]
    }
   ],
   "source": [
    "n,sum = 153,0\n",
    "temp=n\n",
    "while temp>0:\n",
    "    n1=temp%10\n",
    "    sum = sum+((n1)**3)\n",
    "    temp = temp//10\n",
    "\n",
    "if sum==n:\n",
    "    print(\"armstrong number\")\n",
    "else:\n",
    "    print(\"not an armstrong number\")"
   ]
  },
  {
   "cell_type": "code",
   "execution_count": 2,
   "metadata": {},
   "outputs": [
    {
     "name": "stdout",
     "output_type": "stream",
     "text": [
      "Enter number:121\n",
      "The number is a palindrome!\n"
     ]
    }
   ],
   "source": [
    "n=int(input(\"Enter number:\"))\n",
    "temp=n\n",
    "rev=0\n",
    "while(n>0):\n",
    "    dig=n%10\n",
    "    rev=rev*10+dig\n",
    "    n=n//10\n",
    "if(temp==rev):\n",
    "    print(\"The number is a palindrome!\")\n",
    "else:\n",
    "    print(\"The number isn't a palindrome!\")"
   ]
  },
  {
   "cell_type": "markdown",
   "metadata": {},
   "source": [
    "Input = \"suhant_14042022_resume.pdf\"    output = [\"suhant\",14,04,2022,\"resume\",\"pdf\"]"
   ]
  },
  {
   "cell_type": "code",
   "execution_count": null,
   "metadata": {},
   "outputs": [
    {
     "name": "stdout",
     "output_type": "stream",
     "text": [
      "['sushant', 14, 4, 2022, 'resume']\n"
     ]
    }
   ],
   "source": [
    "import re\n",
    "txt= \"sushant_14042022_resume.pdf\"\n",
    "txt=re.split(\"_\",txt.split('.',1)[0])\n",
    "txt1 = []\n",
    "txt1.append(txt[0])\n",
    "txt1.append(int(txt[1][:2]))\n",
    "txt1.append(int(txt[1][3:4]))\n",
    "txt1.append(int(txt[1][4:]))\n",
    "txt1.append(txt[2])\n",
    "print(txt1)"
   ]
  },
  {
   "cell_type": "code",
   "execution_count": null,
   "metadata": {},
   "outputs": [
    {
     "name": "stdout",
     "output_type": "stream",
     "text": [
      "Requirement already satisfied: opencv-contrib-python in c:\\users\\susha\\miniconda3\\lib\\site-packages (4.6.0.66)\n",
      "Requirement already satisfied: numpy>=1.19.3 in c:\\users\\susha\\miniconda3\\lib\\site-packages (from opencv-contrib-python) (1.22.4)\n",
      "Requirement already satisfied: numpy in c:\\users\\susha\\miniconda3\\lib\\site-packages (1.22.4)\n",
      "Requirement already satisfied: matplotlib in c:\\users\\susha\\miniconda3\\lib\\site-packages (3.5.2)\n",
      "Requirement already satisfied: numpy>=1.17 in c:\\users\\susha\\miniconda3\\lib\\site-packages (from matplotlib) (1.22.4)\n",
      "Requirement already satisfied: fonttools>=4.22.0 in c:\\users\\susha\\miniconda3\\lib\\site-packages (from matplotlib) (4.33.3)\n",
      "Requirement already satisfied: pillow>=6.2.0 in c:\\users\\susha\\miniconda3\\lib\\site-packages (from matplotlib) (9.1.1)\n",
      "Requirement already satisfied: python-dateutil>=2.7 in c:\\users\\susha\\miniconda3\\lib\\site-packages (from matplotlib) (2.8.2)\n",
      "Requirement already satisfied: cycler>=0.10 in c:\\users\\susha\\miniconda3\\lib\\site-packages (from matplotlib) (0.11.0)\n",
      "Requirement already satisfied: pyparsing>=2.2.1 in c:\\users\\susha\\miniconda3\\lib\\site-packages (from matplotlib) (3.0.9)\n",
      "Requirement already satisfied: packaging>=20.0 in c:\\users\\susha\\miniconda3\\lib\\site-packages (from matplotlib) (21.3)\n",
      "Requirement already satisfied: kiwisolver>=1.0.1 in c:\\users\\susha\\miniconda3\\lib\\site-packages (from matplotlib) (1.4.3)\n",
      "Requirement already satisfied: six>=1.5 in c:\\users\\susha\\miniconda3\\lib\\site-packages (from python-dateutil>=2.7->matplotlib) (1.16.0)\n"
     ]
    }
   ],
   "source": [
    "!pip install opencv-contrib-python\n",
    "!pip install numpy\n",
    "!pip install matplotlib"
   ]
  },
  {
   "cell_type": "code",
   "execution_count": null,
   "metadata": {},
   "outputs": [],
   "source": [
    "import cv2\n",
    "cow = cv2.imread(\"cow.jpg\", cv2.IMREAD_COLOR)\n",
    "cv2.imshow(\"image\", cow)\n",
    "cv2.waitKey(0)\n",
    "cv2.destroyAllWindows()"
   ]
  },
  {
   "cell_type": "code",
   "execution_count": null,
   "metadata": {},
   "outputs": [],
   "source": [
    "horse = cv2.imread(\"horse.jpg\", cv2.IMREAD_COLOR)\n",
    "cv2.imshow(\"image\", horse)\n",
    "cv2.waitKey(0)\n",
    "cv2.destroyAllWindows()"
   ]
  },
  {
   "cell_type": "markdown",
   "metadata": {},
   "source": [
    "Check whether a input string is a IP address or not"
   ]
  },
  {
   "cell_type": "code",
   "execution_count": null,
   "metadata": {},
   "outputs": [
    {
     "ename": "TypeError",
     "evalue": "'<' not supported between instances of 'int' and 'str'",
     "output_type": "error",
     "traceback": [
      "\u001b[1;31m---------------------------------------------------------------------------\u001b[0m",
      "\u001b[1;31mTypeError\u001b[0m                                 Traceback (most recent call last)",
      "\u001b[1;32m~\\AppData\\Local\\Temp\\ipykernel_1564\\255056924.py\u001b[0m in \u001b[0;36m<module>\u001b[1;34m\u001b[0m\n\u001b[0;32m      2\u001b[0m \u001b[0mc\u001b[0m\u001b[1;33m=\u001b[0m\u001b[1;36m0\u001b[0m\u001b[1;33m\u001b[0m\u001b[1;33m\u001b[0m\u001b[0m\n\u001b[0;32m      3\u001b[0m \u001b[1;32mfor\u001b[0m \u001b[0mx\u001b[0m \u001b[1;32min\u001b[0m \u001b[0mi\u001b[0m\u001b[1;33m.\u001b[0m\u001b[0msplit\u001b[0m\u001b[1;33m(\u001b[0m\u001b[1;34m\".\"\u001b[0m\u001b[1;33m)\u001b[0m\u001b[1;33m:\u001b[0m\u001b[1;33m\u001b[0m\u001b[1;33m\u001b[0m\u001b[0m\n\u001b[1;32m----> 4\u001b[1;33m     \u001b[1;32mif\u001b[0m \u001b[1;36m0\u001b[0m\u001b[1;33m<\u001b[0m\u001b[0mx\u001b[0m\u001b[1;33m<\u001b[0m\u001b[1;36m255\u001b[0m \u001b[1;32mand\u001b[0m \u001b[0mi\u001b[0m\u001b[1;33m.\u001b[0m\u001b[0msplit\u001b[0m\u001b[1;33m(\u001b[0m\u001b[1;34m','\u001b[0m\u001b[1;33m)\u001b[0m\u001b[1;33m==\u001b[0m\u001b[1;36m4\u001b[0m\u001b[1;33m:\u001b[0m\u001b[1;33m\u001b[0m\u001b[1;33m\u001b[0m\u001b[0m\n\u001b[0m\u001b[0;32m      5\u001b[0m         \u001b[0mc\u001b[0m\u001b[1;33m=\u001b[0m\u001b[1;36m0\u001b[0m\u001b[1;33m\u001b[0m\u001b[1;33m\u001b[0m\u001b[0m\n\u001b[0;32m      6\u001b[0m     \u001b[1;32melse\u001b[0m\u001b[1;33m:\u001b[0m\u001b[1;33m\u001b[0m\u001b[1;33m\u001b[0m\u001b[0m\n",
      "\u001b[1;31mTypeError\u001b[0m: '<' not supported between instances of 'int' and 'str'"
     ]
    }
   ],
   "source": [
    "i = \"255.23.25.78\"\n",
    "c=0\n",
    "for x in i.split(\".\"):\n",
    "    if 0<x<255 and i.split(',')==4:\n",
    "        c=0\n",
    "    else:\n",
    "        c+=1\n",
    "if c>0:\n",
    "    print(\"not valid IP address\")\n",
    "else:\n",
    "    print(\"valid IP address\")\n"
   ]
  },
  {
   "cell_type": "code",
   "execution_count": 5,
   "metadata": {},
   "outputs": [
    {
     "name": "stdout",
     "output_type": "stream",
     "text": [
      "29 is a prime number\n"
     ]
    }
   ],
   "source": [
    "num = 29\n",
    "flag = False\n",
    "\n",
    "if num > 1:\n",
    "    for i in range(2, num):\n",
    "        if (num % i) == 0:\n",
    "            flag = True\n",
    "            break\n",
    "\n",
    "if flag:\n",
    "    print(num, \"is not a prime number\")\n",
    "else:\n",
    "    print(num, \"is a prime number\")"
   ]
  },
  {
   "cell_type": "code",
   "execution_count": null,
   "metadata": {},
   "outputs": [],
   "source": []
  }
 ],
 "metadata": {
  "kernelspec": {
   "display_name": "Python 3 (ipykernel)",
   "language": "python",
   "name": "python3"
  },
  "language_info": {
   "codemirror_mode": {
    "name": "ipython",
    "version": 3
   },
   "file_extension": ".py",
   "mimetype": "text/x-python",
   "name": "python",
   "nbconvert_exporter": "python",
   "pygments_lexer": "ipython3",
   "version": "3.7.13"
  },
  "vscode": {
   "interpreter": {
    "hash": "a2d461206229cef009f2dd1c94aaea2717ad5fb75b4825ab37017b65c11db84c"
   }
  }
 },
 "nbformat": 4,
 "nbformat_minor": 4
}
